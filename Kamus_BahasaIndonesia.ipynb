{
 "cells": [
  {
   "cell_type": "markdown",
   "id": "fdbd0238",
   "metadata": {},
   "source": [
    "# Analisis Morfologi"
   ]
  },
  {
   "cell_type": "markdown",
   "id": "ef9a14e1",
   "metadata": {},
   "source": [
    "Latihan 1\n",
    "\n",
    "Untuk melakukan stemming pada bahasa Indonesia, kita dapat menggunakan pustaka\n",
    "Sastrawi yang menyediakan algoritma stemming yang dapat digunakan untuk bahasa\n",
    "Indonesia. Algoritma yang disediakan oleh Sastrawi adalah algoritma Nazief-Adriani,\n",
    "yang merupakan salah satu algoritma stemming bahasa Indonesia yang paling terkenal\n",
    "dan sering digunakan"
   ]
  },
  {
   "cell_type": "code",
   "execution_count": 24,
   "id": "fbf01d66",
   "metadata": {
    "scrolled": true
   },
   "outputs": [],
   "source": [
    "from Sastrawi.Stemmer.StemmerFactory import StemmerFactory"
   ]
  },
  {
   "cell_type": "code",
   "execution_count": 25,
   "id": "d2086daf",
   "metadata": {},
   "outputs": [],
   "source": [
    "# membuat objek stemmer\n",
    "factory = StemmerFactory()\n",
    "stemmer = factory.create_stemmer()"
   ]
  },
  {
   "cell_type": "code",
   "execution_count": 26,
   "id": "150841b3",
   "metadata": {},
   "outputs": [],
   "source": [
    "# contoh teks\n",
    "text = \"Saya sedang belajar pemrosesan bahasa alami dengan menggunakan Python\""
   ]
  },
  {
   "cell_type": "code",
   "execution_count": 27,
   "id": "c41ed233",
   "metadata": {},
   "outputs": [
    {
     "name": "stdout",
     "output_type": "stream",
     "text": [
      "saya sedang ajar pemrosesan bahasa alami dengan guna python\n"
     ]
    }
   ],
   "source": [
    "# melakukan stemming pada teks\n",
    "stemmed_text = stemmer.stem(text)\n",
    "print(stemmed_text)"
   ]
  },
  {
   "cell_type": "markdown",
   "id": "3531dda2",
   "metadata": {},
   "source": [
    "latihan 2\n",
    "\n",
    "Kamus bahasa Indonesia adalah kumpulan kata-kata dalam bahasa Indonesia beserta\n",
    "dengan artinya. Dalam pemrosesan bahasa alami, kamus dapat digunakan untuk\n",
    "menerjemahkan kata-kata dari satu bahasa ke bahasa lain atau untuk melakukan analisis\n",
    "teks seperti penghitungan frekuensi kata."
   ]
  },
  {
   "cell_type": "code",
   "execution_count": 28,
   "id": "2791030f",
   "metadata": {},
   "outputs": [],
   "source": [
    "# membuat kamus kosong\n",
    "kamus = {}\n",
    "# menambahkan kata ke dalam kamus\n",
    "kamus['nenek'] = 'sebutan untuk ibu dari orang tua kita'\n",
    "kamus['kakek'] = 'sebutan untuk ayah dari orang tua kita'"
   ]
  },
  {
   "cell_type": "code",
   "execution_count": 29,
   "id": "8087661f",
   "metadata": {},
   "outputs": [
    {
     "name": "stdout",
     "output_type": "stream",
     "text": [
      "{'nenek': 'sebutan untuk ibu dari orang tua kita', 'kakek': 'sebutan untuk ayah dari orang tua kita'}\n"
     ]
    }
   ],
   "source": [
    "# mencetak isi kamus\n",
    "print(kamus)"
   ]
  },
  {
   "cell_type": "code",
   "execution_count": 30,
   "id": "7331d15e",
   "metadata": {},
   "outputs": [
    {
     "name": "stdout",
     "output_type": "stream",
     "text": [
      "arti dari kata \"nenek\" adalah sebutan untuk ibu dari orang tua kita\n"
     ]
    }
   ],
   "source": [
    "# mencetak arti dari sebuah kata\n",
    "print('arti dari kata \"nenek\" adalah', kamus['nenek'])"
   ]
  },
  {
   "cell_type": "code",
   "execution_count": null,
   "id": "143de267",
   "metadata": {},
   "outputs": [],
   "source": []
  },
  {
   "cell_type": "markdown",
   "id": "1675ed3b",
   "metadata": {},
   "source": [
    "Untuk membuat kamus bahasa Indonesia yang lebih besar dan lengkap, kita dapat\n",
    "menggunakan data dari sumber eksternal seperti Kaggle atau sumber lain yang\n",
    "menyediakan data kamus dalam format tertentu."
   ]
  },
  {
   "cell_type": "code",
   "execution_count": 31,
   "id": "a7ca620b",
   "metadata": {},
   "outputs": [],
   "source": [
    "import csv\n",
    "\n",
    "# membuat kamus kosong\n",
    "kamus = {}"
   ]
  },
  {
   "cell_type": "code",
   "execution_count": 32,
   "id": "60788a1e",
   "metadata": {},
   "outputs": [],
   "source": [
    "# membuka file CSV kamus bahasa Indonesia\n",
    "with open('ind_eng_dict.csv', newline='') as csvfile:\n",
    " reader = csv.reader(csvfile, delimiter=',', quotechar='\"')\n",
    "\n",
    " # membaca setiap baris dalam file CSV dan menambahkannya ke dalam kamus\n",
    " for row in reader:\n",
    "    kamus[row[0]] = row[1]\n"
   ]
  },
  {
   "cell_type": "code",
   "execution_count": 33,
   "id": "3c303383",
   "metadata": {},
   "outputs": [
    {
     "name": "stdout",
     "output_type": "stream",
     "text": [
      "{'Indonesian': 'English', 'rumah': 'house', 'mobil': 'car', 'buku': 'book', 'kucing': 'cat', 'anjing': 'dog', 'meja': 'table', 'kursi': 'chair', 'sepeda': 'motorcycle', 'roti': 'bread', 'ayam': 'chicken', 'telur': 'egg', 'kuda': 'horse', 'taman': 'garden', 'pohon': 'tree', 'bunga': 'flower', 'air': 'water', 'api': 'fire', 'tanah': 'soil', 'gunung': 'mountain', 'danau': 'lake', 'jalur': 'line', 'kaca': 'glass', 'cermin': 'mirror', 'lampu': 'lamp', 'bola': 'ball', 'sepatu': 'shoe', 'topi': 'hat', 'kaos': 't-shirt', 'celana': 'pants', 'rok': 'skirt', 'kemeja': 'shirt', 'jaket': 'jacket', 'jam': 'timer', 'kalender': 'calendar', 'kamera': 'camera', 'matahari': 'sun', 'bulan': 'moon', 'bintang': 'star', 'awan': 'cloud', 'hujan': 'rain', 'salju': 'snow', 'angin': 'wind', 'bumi': 'earth', 'langit': 'sky', 'laut': 'ocean', 'alat tool': 'pencil', 'pulpen': 'pen', 'tinta': 'ink', 'buku catatan': 'notebook', 'buku tulis': 'exercise book', 'kertas': 'paper', 'pensil': 'pencil', 'penghapus': 'eraser', 'spidol': 'marker', 'penggaris': 'ruler', 'segitiga': 'triangle', 'persegi': 'square', 'lingkaran': 'circle', 'oval': 'oval', 'gambar': 'picture', 'frame': 'frame', 'pajangan': 'decoration', 'karpet': 'lamp', 'lantai': 'floor', 'dinding': 'wall', 'atap': 'roof', 'pintu': 'door', 'jendela': 'window', 'tirai': 'curtain', 'sabun': 'soap', 'sikat gigi': 'toothbrush', 'pasta gigi': 'toothpaste', 'shampo': 'shampoo', 'sikat rambut': 'hairbrush', 'gunting': 'scissors', 'pisau': 'knife', 'garpu': 'fork', 'sendok': 'spoon', 'piring': 'plate', 'gelas': 'glass', 'mangkuk': 'bowl', 'teko': 'teapot', 'panci': 'pan', 'wajan': 'frying pan', 'kompor': 'stove', 'kulkas': 'refrigerator', 'oven': 'oven', 'meja makan': 'dining table', 'kursi makan': 'dining chair', 'tidur': 'bed', 'lemari': 'wardrobe', 'rak': 'basket', 'lampu tidur': 'bedside lamp', 'meja belajar': 'study desk', 'kursi belajar': 'study chair', 'komputer': 'computer', 'laptop': 'laptop', 'mouse': 'mouse', 'keyboard': 'keyboard', 'monitor': 'monitor', 'printer': 'printer', 'proyektor': 'projector', 'kabel': 'cable', 'baterai': 'battery', 'charger': 'charger', 'earphone': 'earphone', 'speaker': 'speaker', 'televisi': 'television', 'remote': 'remote control', 'kulkas mini': 'mini refrigerator', 'mesin cuci': 'washing machine', 'ac': 'air conditioner', 'kipas angin': 'fan', 'panci kukus': 'steamer', 'setrika': 'iron', 'blender': 'blender', 'juicer': 'juicer', 'mixer': 'mixer', 'piring mangkok': 'set of plates and bowls', 'sendok garpu pisau': 'set of spoon fork and knife', 'teko listrik': 'electric kettle', 'kompor gas': 'gas stove', 'perabotan': ' furniture', 'sofa': 'sofa', 'karpet ruang tamu': 'living room carpet', 'lemari buku': 'bookshelf', 'rak buku': 'bookcase', 'rak sepatu': 'shoe rack', 'cermin dinding': 'wall mirror', 'gantungan baju': 'coat hanger', 'tirai jendela': 'window curtains', 'kursi goyang': 'rocking chair', 'tikar': 'bamboo mat', 'tenda': 'camping tent', 'kasur udara': 'inflatable mattress', 'tabung gas': 'gas cylinder', 'pemanas air': 'water heater', 'panci presto': 'pressure cooker', 'ceret': 'pitcher', 'piring makanan': 'food plate', 'piring saji': 'serving plate', 'teko teh': 'teapot for tea', 'piring cangkir': 'set of plates and cups', 'toples': 'glass jar', 'gelas kopi': 'coffee mug', 'piring kue': 'cake plate', 'piring tahu': 'soybean cake plate', 'piring nasi': 'rice plate', 'piring sereal': 'cereal bowl', 'piring salad': 'salad plate', 'piring takir': 'noodle bowl', 'piring sajian': 'serving tray', 'piring soup': 'soup plate', 'piring sayur': 'vegetable plate', 'piring steak': 'steak plate', 'piring rendang': 'rendang plate', 'piring bakso': 'meatball plate', 'piring sate': 'satay plate', 'piring kari': 'curry plate', 'piring sushi': 'sushi plate', 'piring kimbap': 'kimbap plate', 'piring dimsum': 'dimsum plate', 'piring seafood': 'seafood plate', 'piring es': 'ice plate', 'piring pizza': 'pizza plate', 'piring dessert': 'dessert plate', 'piring sandwich': 'sandwich plate', 'piring camilan': 'snack plate', 'piring antipasti': 'antipasti plate', 'piring tapas': 'tapas plate', 'piring cokelat': 'chocolate plate', 'piring salad buah': 'fruit salad plate', 'piring cheese': 'cheese plate', 'piring pancake': 'pancake plate', 'piring waffle': 'waffle plate', 'piring sup': 'soup bowl', 'piring pasta': 'pasta plate', 'piring mie': 'noodle plate', 'piring bubur': 'porridge bowl', 'piring oatmeal': 'oatmeal bowl', 'piring baskom': 'bowl for washing', 'piring lada': 'pepper plate', 'piring gula': 'sugar plate', 'piring garam': 'salt plate', 'piring cabe': 'chili plate', 'piring mayones': 'mayonnaise plate', 'piring mustard': 'mustard plate', 'piring acar': 'pickle plate', 'piring ketchup': 'ketchup plate', 'piring saus': 'sauce plate', 'piring saus tomat': 'tomato sauce plate', 'piring saus sambal': 'chili sauce plate', 'piring saus barbekyu': 'barbecue sauce plate', 'halo': ' hello', 'saya': ' I', 'kami': ' we', 'mereka': ' they', 'hai': ' hi', 'pagi': ' good morning', 'siang': ' good afternoon', 'malam': ' good evening', 'selamat tidur': ' good night', 'selamat': ' congratulation'}\n"
     ]
    }
   ],
   "source": [
    "# mencetak isi kamus\n",
    "print(kamus)"
   ]
  },
  {
   "cell_type": "code",
   "execution_count": 34,
   "id": "55e69a77",
   "metadata": {},
   "outputs": [
    {
     "name": "stdout",
     "output_type": "stream",
     "text": [
      "Arti dari kata 'piring saus' adalah sauce plate\n"
     ]
    }
   ],
   "source": [
    "# mencetak arti dari sebuah kata\n",
    "print(\"Arti dari kata 'piring saus' adalah\", kamus['piring saus'])"
   ]
  },
  {
   "cell_type": "code",
   "execution_count": null,
   "id": "759033f9",
   "metadata": {},
   "outputs": [],
   "source": [
    "\n"
   ]
  },
  {
   "cell_type": "markdown",
   "id": "d6923206",
   "metadata": {},
   "source": [
    "Latihan 3"
   ]
  },
  {
   "cell_type": "code",
   "execution_count": 35,
   "id": "3c9157ca",
   "metadata": {},
   "outputs": [],
   "source": [
    "import pandas as pd\n",
    "# membaca file csv kamus bahasa Indonesia-Inggris\n",
    "df = pd.read_csv('ind_eng_dict.csv', delimiter=',')"
   ]
  },
  {
   "cell_type": "code",
   "execution_count": 36,
   "id": "e36b4ec0",
   "metadata": {},
   "outputs": [
    {
     "data": {
      "text/html": [
       "<div>\n",
       "<style scoped>\n",
       "    .dataframe tbody tr th:only-of-type {\n",
       "        vertical-align: middle;\n",
       "    }\n",
       "\n",
       "    .dataframe tbody tr th {\n",
       "        vertical-align: top;\n",
       "    }\n",
       "\n",
       "    .dataframe thead th {\n",
       "        text-align: right;\n",
       "    }\n",
       "</style>\n",
       "<table border=\"1\" class=\"dataframe\">\n",
       "  <thead>\n",
       "    <tr style=\"text-align: right;\">\n",
       "      <th></th>\n",
       "      <th>Indonesian</th>\n",
       "      <th>English</th>\n",
       "    </tr>\n",
       "  </thead>\n",
       "  <tbody>\n",
       "    <tr>\n",
       "      <th>0</th>\n",
       "      <td>rumah</td>\n",
       "      <td>house</td>\n",
       "    </tr>\n",
       "    <tr>\n",
       "      <th>1</th>\n",
       "      <td>mobil</td>\n",
       "      <td>car</td>\n",
       "    </tr>\n",
       "    <tr>\n",
       "      <th>2</th>\n",
       "      <td>buku</td>\n",
       "      <td>book</td>\n",
       "    </tr>\n",
       "    <tr>\n",
       "      <th>3</th>\n",
       "      <td>kucing</td>\n",
       "      <td>cat</td>\n",
       "    </tr>\n",
       "    <tr>\n",
       "      <th>4</th>\n",
       "      <td>anjing</td>\n",
       "      <td>dog</td>\n",
       "    </tr>\n",
       "  </tbody>\n",
       "</table>\n",
       "</div>"
      ],
      "text/plain": [
       "  Indonesian English\n",
       "0      rumah   house\n",
       "1      mobil     car\n",
       "2       buku    book\n",
       "3     kucing     cat\n",
       "4     anjing     dog"
      ]
     },
     "execution_count": 36,
     "metadata": {},
     "output_type": "execute_result"
    }
   ],
   "source": [
    "df.head(5)"
   ]
  },
  {
   "cell_type": "code",
   "execution_count": 37,
   "id": "684f2793",
   "metadata": {},
   "outputs": [
    {
     "name": "stdout",
     "output_type": "stream",
     "text": [
      "rumah house\n",
      "mobil car\n",
      "buku book\n",
      "kucing cat\n",
      "anjing dog\n",
      "meja table\n",
      "kursi chair\n",
      "sepeda motorcycle\n",
      "roti bread\n",
      "ayam chicken\n",
      "telur egg\n",
      "kuda horse\n",
      "taman garden\n",
      "pohon tree\n",
      "bunga flower\n",
      "air water\n",
      "api fire\n",
      "tanah soil\n",
      "gunung mountain\n",
      "danau lake\n",
      "jalur line\n",
      "kaca glass\n",
      "cermin mirror\n",
      "lampu lamp\n",
      "bola ball\n",
      "sepatu shoe\n",
      "topi hat\n",
      "kaos t-shirt\n",
      "celana pants\n",
      "rok skirt\n",
      "kemeja shirt\n",
      "jaket jacket\n",
      "jam timer\n",
      "kalender calendar\n",
      "kamera camera\n",
      "matahari sun\n",
      "bulan moon\n",
      "bintang star\n",
      "awan cloud\n",
      "hujan rain\n",
      "salju snow\n",
      "angin wind\n",
      "bumi earth\n",
      "langit sky\n",
      "laut ocean\n",
      "alat tool pencil\n",
      "pulpen pen\n",
      "tinta ink\n",
      "buku catatan notebook\n",
      "buku tulis exercise book\n",
      "kertas paper\n",
      "pensil pencil\n",
      "penghapus eraser\n",
      "spidol marker\n",
      "penggaris ruler\n",
      "segitiga triangle\n",
      "persegi square\n",
      "lingkaran circle\n",
      "oval oval\n",
      "gambar picture\n",
      "frame frame\n",
      "pajangan decoration\n",
      "karpet carpet\n",
      "lantai floor\n",
      "dinding wall\n",
      "atap roof\n",
      "pintu door\n",
      "jendela window\n",
      "tirai curtain\n",
      "sabun soap\n",
      "sikat gigi toothbrush\n",
      "pasta gigi toothpaste\n",
      "shampo shampoo\n",
      "sikat rambut hairbrush\n",
      "gunting scissors\n",
      "pisau knife\n",
      "garpu fork\n",
      "sendok spoon\n",
      "piring plate\n",
      "gelas glass\n",
      "mangkuk bowl\n",
      "teko teapot\n",
      "panci pan\n",
      "wajan frying pan\n",
      "kompor stove\n",
      "kulkas refrigerator\n",
      "oven oven\n",
      "meja makan dining table\n",
      "kursi makan dining chair\n",
      "tidur bed\n",
      "lemari wardrobe\n",
      "rak basket\n",
      "karpet lamp\n",
      "lampu tidur bedside lamp\n",
      "meja belajar study desk\n",
      "kursi belajar study chair\n",
      "komputer computer\n",
      "laptop laptop\n",
      "mouse mouse\n",
      "keyboard keyboard\n",
      "monitor monitor\n",
      "printer printer\n",
      "proyektor projector\n",
      "kabel cable\n",
      "baterai battery\n",
      "charger charger\n",
      "earphone earphone\n",
      "speaker speaker\n",
      "televisi television\n",
      "remote remote control\n",
      "kulkas mini mini refrigerator\n",
      "mesin cuci washing machine\n",
      "ac air conditioner\n",
      "kipas angin fan\n",
      "panci kukus steamer\n",
      "setrika iron\n",
      "blender blender\n",
      "juicer juicer\n",
      "mixer mixer\n",
      "piring mangkok set of plates and bowls\n",
      "sendok garpu pisau set of spoon fork and knife\n",
      "teko listrik electric kettle\n",
      "kompor gas gas stove\n",
      "perabotan  furniture\n",
      "sofa sofa\n",
      "karpet ruang tamu living room carpet\n",
      "lemari buku bookshelf\n",
      "rak buku bookcase\n",
      "rak sepatu shoe rack\n",
      "cermin dinding wall mirror\n",
      "gantungan baju coat hanger\n",
      "tirai jendela window curtains\n",
      "kursi goyang rocking chair\n",
      "tikar bamboo mat\n",
      "tenda camping tent\n",
      "kasur udara inflatable mattress\n",
      "tabung gas gas cylinder\n",
      "pemanas air water heater\n",
      "panci presto pressure cooker\n",
      "ceret pitcher\n",
      "piring makanan food plate\n",
      "piring saji serving plate\n",
      "teko teh teapot for tea\n",
      "piring cangkir set of plates and cups\n",
      "toples glass jar\n",
      "gelas kopi coffee mug\n",
      "piring kue cake plate\n",
      "piring tahu soybean cake plate\n",
      "piring nasi rice plate\n",
      "piring sereal cereal bowl\n",
      "piring salad salad plate\n",
      "piring takir noodle bowl\n",
      "piring sajian serving tray\n",
      "piring soup soup plate\n",
      "piring sayur vegetable plate\n",
      "piring steak steak plate\n",
      "piring rendang rendang plate\n",
      "piring bakso meatball plate\n",
      "piring sate satay plate\n",
      "piring kari curry plate\n",
      "piring sushi sushi plate\n",
      "piring kimbap kimbap plate\n",
      "piring dimsum dimsum plate\n",
      "piring seafood seafood plate\n",
      "piring es ice plate\n",
      "piring pizza pizza plate\n",
      "piring dessert dessert plate\n",
      "piring sandwich sandwich plate\n",
      "piring camilan snack plate\n",
      "piring antipasti antipasti plate\n",
      "piring tapas tapas plate\n",
      "piring cokelat chocolate plate\n",
      "piring salad buah fruit salad plate\n",
      "piring cheese cheese plate\n",
      "piring pancake pancake plate\n",
      "piring waffle waffle plate\n",
      "piring sup soup bowl\n",
      "piring pasta pasta plate\n",
      "piring mie noodle plate\n",
      "piring bubur porridge bowl\n",
      "piring oatmeal oatmeal bowl\n",
      "piring baskom bowl for washing\n",
      "piring lada pepper plate\n",
      "piring gula sugar plate\n",
      "piring garam salt plate\n",
      "piring cabe chili plate\n",
      "piring mayones mayonnaise plate\n",
      "piring mustard mustard plate\n",
      "piring acar pickle plate\n",
      "piring ketchup ketchup plate\n",
      "piring saus sauce plate\n",
      "piring saus tomat tomato sauce plate\n",
      "piring saus sambal chili sauce plate\n",
      "piring saus barbekyu barbecue sauce plate\n",
      "halo  hello\n",
      "saya  I\n",
      "kami  we\n",
      "mereka  they\n",
      "hai  hi\n",
      "pagi  good morning\n",
      "siang  good afternoon\n",
      "malam  good evening\n",
      "selamat tidur  good night\n",
      "selamat  congratulation\n"
     ]
    }
   ],
   "source": [
    "# menampilkan kata-kata dalam bahasa Indonesia dan Inggris\n",
    "for index, row in df.iterrows():\n",
    " kata_indonesia = row['Indonesian']\n",
    " kata_inggris = row['English']\n",
    " print(kata_indonesia, kata_inggris)"
   ]
  },
  {
   "cell_type": "code",
   "execution_count": null,
   "id": "47c4b2a4",
   "metadata": {},
   "outputs": [],
   "source": []
  },
  {
   "cell_type": "markdown",
   "id": "3bdd64d5",
   "metadata": {},
   "source": [
    "Latihan 4"
   ]
  },
  {
   "cell_type": "code",
   "execution_count": 38,
   "id": "fdbd2e55",
   "metadata": {},
   "outputs": [],
   "source": [
    "import pandas as pd\n",
    "# membaca file CSV kamus bahasa Indonesia-Inggris\n",
    "df = pd.read_csv('ind_eng_dict.csv')"
   ]
  },
  {
   "cell_type": "code",
   "execution_count": 39,
   "id": "1f6528cf",
   "metadata": {},
   "outputs": [
    {
     "name": "stdout",
     "output_type": "stream",
     "text": [
      "  Indonesian English\n",
      "0      rumah   house\n",
      "1      mobil     car\n",
      "2       buku    book\n",
      "3     kucing     cat\n",
      "4     anjing     dog\n"
     ]
    }
   ],
   "source": [
    "# menampilkan 5 baris pertama dalam dataframe\n",
    "print(df.head())"
   ]
  },
  {
   "cell_type": "code",
   "execution_count": 40,
   "id": "73c6bd96",
   "metadata": {},
   "outputs": [
    {
     "name": "stdout",
     "output_type": "stream",
     "text": [
      "Kata 'buku' dalam bahasa Inggris adalah 'book'\n"
     ]
    }
   ],
   "source": [
    "# mencari kata dalam bahasa Inggris berdasarkan kata dalam bahasa Indonesia\n",
    "kata_indonesia = 'buku'\n",
    "kata_inggris = df.loc[df['Indonesian'] == kata_indonesia, 'English'].values\n",
    "print(f\"Kata '{kata_indonesia}' dalam bahasa Inggris adalah '{kata_inggris[0]}'\")"
   ]
  },
  {
   "cell_type": "code",
   "execution_count": null,
   "id": "f21c047e",
   "metadata": {},
   "outputs": [],
   "source": []
  },
  {
   "cell_type": "markdown",
   "id": "cd0c8c7f",
   "metadata": {},
   "source": [
    "Latihan 5"
   ]
  },
  {
   "cell_type": "markdown",
   "id": "957df9f6",
   "metadata": {},
   "source": [
    "Streamlit adalah framework Python yang memungkinkan pengembang untuk dengan\n",
    "mudah membuat aplikasi web interaktif untuk data science. Dalam hal kamus bahasa\n",
    "Indonesia-Inggris, kita dapat menggunakan Streamlit untuk membuat antarmuka\n",
    "sederhana yang memungkinkan pengguna untuk mencari kata dalam bahasa Indonesia\n",
    "dan mendapatkan arti kata tersebut dalam bahasa Inggris."
   ]
  },
  {
   "cell_type": "code",
   "execution_count": 44,
   "id": "79b3a8d0",
   "metadata": {},
   "outputs": [],
   "source": [
    "import pandas as pd\n",
    "import streamlit as st\n",
    "# membaca file CSV kamus bahasa Indonesia-Inggris\n",
    "dictionary = pd.read_csv('ind_eng_dict.csv')"
   ]
  },
  {
   "cell_type": "code",
   "execution_count": 45,
   "id": "6a2c40c6",
   "metadata": {},
   "outputs": [],
   "source": [
    "def translate(word):\n",
    "   translation = dictionary[dictionary[\"Indonesian\"] == word][\"English\"]\n",
    "   if len(translation) > 0:\n",
    "     return translation.values[0]\n",
    "   else:\n",
    "     return \"Word not found in dictionary.\"\n"
   ]
  },
  {
   "cell_type": "code",
   "execution_count": 42,
   "id": "4ed89f08",
   "metadata": {},
   "outputs": [
    {
     "data": {
      "text/plain": [
       "DeltaGenerator(_root_container=0, _provided_cursor=None, _parent=None, _block_type=None, _form_data=None)"
      ]
     },
     "execution_count": 42,
     "metadata": {},
     "output_type": "execute_result"
    }
   ],
   "source": [
    "# menampilkan judul aplikasi\n",
    "st.title('Kamus Bahasa Indonesia-Inggris')"
   ]
  },
  {
   "cell_type": "code",
   "execution_count": 46,
   "id": "34727197",
   "metadata": {},
   "outputs": [],
   "source": [
    "# membuat input box untuk memasukkan kata dalam bahasa Indonesia\n",
    "word = st.text_input('Masukkan kata dalam bahasa Indonesia')\n",
    "if st.button(\"Terjemahkan\"):\n",
    " translation = translate(word)\n",
    " st.write(\"Arti kata dalam bahasa Inggris:\")\n",
    " st.write(translation)"
   ]
  },
  {
   "attachments": {},
   "cell_type": "markdown",
   "id": "039964b1",
   "metadata": {},
   "source": [
    "Dengan menggunakan kode tersebut, kita dapat membuat aplikasi web sederhana untuk\n",
    "kamus bahasa Indonesia-Inggris dengan menggunakan Streamlit. Pengguna dapat\n",
    "memasukkan kata dalam bahasa Indonesia dan mendapatkan arti kata tersebut dalam\n",
    "bahasa Inggris."
   ]
  },
  {
   "cell_type": "code",
   "execution_count": null,
   "id": "44061689",
   "metadata": {},
   "outputs": [],
   "source": []
  }
 ],
 "metadata": {
  "kernelspec": {
   "display_name": "Python 3 (ipykernel)",
   "language": "python",
   "name": "python3"
  },
  "language_info": {
   "codemirror_mode": {
    "name": "ipython",
    "version": 3
   },
   "file_extension": ".py",
   "mimetype": "text/x-python",
   "name": "python",
   "nbconvert_exporter": "python",
   "pygments_lexer": "ipython3",
   "version": "3.10.9"
  },
  "vp": {
   "vp_config_version": "1.0.0",
   "vp_menu_width": 273,
   "vp_note_display": false,
   "vp_note_width": 0,
   "vp_position": {
    "width": 278
   },
   "vp_section_display": false,
   "vp_signature": "VisualPython"
  }
 },
 "nbformat": 4,
 "nbformat_minor": 5
}
